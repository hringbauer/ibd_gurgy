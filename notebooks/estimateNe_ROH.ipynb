{
 "cells": [
  {
   "cell_type": "markdown",
   "metadata": {},
   "source": [
    "# Estimate effective population size via hapROH segments"
   ]
  },
  {
   "cell_type": "code",
   "execution_count": 75,
   "metadata": {},
   "outputs": [
    {
     "name": "stdout",
     "output_type": "stream",
     "text": [
      "bionc21\n",
      "Leipzig Cluster detected!\n",
      "/mnt/archgen/users/hringbauer/git/ibd_gurgy\n",
      "CPU Count: 40\n"
     ]
    }
   ],
   "source": [
    "import numpy as np\n",
    "import pandas as pd\n",
    "import matplotlib.pyplot as plt\n",
    "import socket as socket\n",
    "import os as os\n",
    "import sys as sys\n",
    "import h5py\n",
    "import matplotlib.cm as cm\n",
    "import itertools as it\n",
    "import multiprocessing as mp\n",
    "\n",
    "socket_name = socket.gethostname()\n",
    "print(socket_name)\n",
    "    \n",
    "if socket_name.startswith(\"bionc\"):\n",
    "    print(\"Leipzig Cluster detected!\")\n",
    "    path = \"/mnt/archgen/users/hringbauer/git/ibd_gurgy/\"\n",
    "    #sys.path.append() \n",
    "    \n",
    "else: \n",
    "    raise RuntimeWarning(\"Not compatible machine. Check!!\")\n",
    "\n",
    "os.chdir(path)  # Set the right Path (in line with Atom default)\n",
    "print(os.getcwd())\n",
    "print(f\"CPU Count: {mp.cpu_count()}\")\n",
    "\n",
    "from matplotlib import rcParams\n",
    "rcParams['font.family'] = 'sans-serif'   # Set the defaul\n",
    "rcParams['font.sans-serif'] = ['Arial']\n",
    "\n",
    "#from hapsburg.figures.plot_ibdx import new_column, give_sub_df\n",
    "#from run import hapBLOCK_chroms"
   ]
  },
  {
   "cell_type": "markdown",
   "metadata": {},
   "source": [
    "# Load ROH"
   ]
  },
  {
   "cell_type": "code",
   "execution_count": 76,
   "metadata": {},
   "outputs": [
    {
     "name": "stdout",
     "output_type": "stream",
     "text": [
      "Successfully loaded 86 IIDs\n",
      "Combined with Fam. Info for 86 \n",
      "Missing Fam. Data for 0 iids\n"
     ]
    }
   ],
   "source": [
    "df = pd.read_csv(\"./output/roh/combined_roh05.csv\", sep='\\t') # The new IBD\n",
    "\n",
    "# Rename IIDs to remove ugly library name\n",
    "iids = df[\"iid\"].str.split(\".\").values\n",
    "iids = [i[0] for i in iids]\n",
    "df[\"iid\"] = iids\n",
    "#df[\"age_iid\"] = df[\"age\"].values\n",
    "df[\"age\"] = 6000\n",
    "\n",
    "print(f\"Successfully loaded {len(df)} IIDs\")\n",
    "\n",
    "### Load Meta Data with Family Info\n",
    "df1 = pd.read_csv(\"./data/tree/family_all.v2.tsv\", sep=\"\\t\")\n",
    "df1[\"iid\"] = df1[\"t\"]\n",
    "df1[\"fam\"] = [f\"Fam. {i}\" if i in (\"a\",\"b\") else \"Other\" for i in df1[\"fam\"]]\n",
    "df2 = pd.merge(df, df1[[\"iid\", \"fam\"]], on=\"iid\", how=\"left\")\n",
    "\n",
    "print(f\"Combined with Fam. Info for {len(df2)} \")\n",
    "\n",
    "idx = df2[\"fam\"].isnull()\n",
    "print(f\"Missing Fam. Data for {np.sum(idx)} iids\")"
   ]
  },
  {
   "cell_type": "code",
   "execution_count": 33,
   "metadata": {},
   "outputs": [
    {
     "data": {
      "text/plain": [
       "Fam. a    58\n",
       "Other     18\n",
       "Fam. b    10\n",
       "Name: fam, dtype: int64"
      ]
     },
     "execution_count": 33,
     "metadata": {},
     "output_type": "execute_result"
    }
   ],
   "source": [
    "df2[\"fam\"].value_counts()"
   ]
  },
  {
   "cell_type": "code",
   "execution_count": 42,
   "metadata": {},
   "outputs": [
    {
     "data": {
      "text/plain": [
       "41"
      ]
     },
     "execution_count": 42,
     "metadata": {},
     "output_type": "execute_result"
    }
   ],
   "source": [
    "np.sum(df2[\"max_roh\"]>8)"
   ]
  },
  {
   "cell_type": "markdown",
   "metadata": {},
   "source": [
    "# Optional Excursion: Plot summary statistics ROH"
   ]
  },
  {
   "cell_type": "code",
   "execution_count": 77,
   "metadata": {},
   "outputs": [],
   "source": [
    "from hapsburg.figures.plot_bars import plot_legend_only, plot_panel_row, prepare_dfs_plot"
   ]
  },
  {
   "cell_type": "code",
   "execution_count": 78,
   "metadata": {},
   "outputs": [
    {
     "name": "stdout",
     "output_type": "stream",
     "text": [
      "Saved figure to ./figs/roh/roh_bar.pdf\n"
     ]
    },
    {
     "data": {
      "image/png": "[encoded data removed]",
      "text/plain": [
       "<Figure size 1152x252 with 4 Axes>"
      ]
     },
     "metadata": {
      "needs_background": "light"
     },
     "output_type": "display_data"
    }
   ],
   "source": [
    "plot_dfs, cols = prepare_dfs_plot(df, cms=[4, 8, 12, 20], col_group='clst')\n",
    "\n",
    "# ./figures_test/freilich20_bars.pdf\n",
    "plot_panel_row(plot_dfs, wspace=0.1, r_title=20, leg_pos=-2, \n",
    "               ylim=[0,200], figsize=(16,3.5), savepath=\"./figs/roh/roh_bar.pdf\")"
   ]
  },
  {
   "cell_type": "markdown",
   "metadata": {},
   "source": [
    "### Calculate Statistic for Paper"
   ]
  },
  {
   "cell_type": "code",
   "execution_count": 82,
   "metadata": {},
   "outputs": [
    {
     "name": "stdout",
     "output_type": "stream",
     "text": [
      "82/86\n",
      "41/86\n"
     ]
    }
   ],
   "source": [
    "idx = df[\"max_roh\"]>4\n",
    "print(f\"{np.sum(idx)}/{len(idx)}\")\n",
    "\n",
    "idx = df[\"max_roh\"]>8\n",
    "print(f\"{np.sum(idx)}/{len(idx)}\")"
   ]
  },
  {
   "cell_type": "code",
   "execution_count": 37,
   "metadata": {},
   "outputs": [
    {
     "name": "stdout",
     "output_type": "stream",
     "text": [
      "Saved figure to ./figs/roh/fam_roh_bar.pdf\n"
     ]
    },
    {
     "data": {
      "image/png": "[encoded data removed]",
      "text/plain": [
       "<Figure size 1152x252 with 6 Axes>"
      ]
     },
     "metadata": {
      "needs_background": "light"
     },
     "output_type": "display_data"
    }
   ],
   "source": [
    "plot_dfs, cols = prepare_dfs_plot(df2, cms=[4, 8, 12, 20], col_group='fam')\n",
    "titles = [\"Fam. A\", \"Fam. B\", \"other\"]\n",
    "plot_panel_row(plot_dfs, wspace=0.04, r_title=20, leg_pos=-1, \n",
    "               ylim=[0,200], figsize=(16,3.5), savepath=\"./figs/roh/fam_roh_bar.pdf\", titles = titles)"
   ]
  },
  {
   "cell_type": "markdown",
   "metadata": {},
   "source": [
    "# 1) Estimate Ne from ROH"
   ]
  },
  {
   "cell_type": "markdown",
   "metadata": {},
   "source": [
    "# Estimate Ne"
   ]
  },
  {
   "cell_type": "code",
   "execution_count": 22,
   "metadata": {},
   "outputs": [],
   "source": [
    "from hapsburg.PackagesSupport.fit_ne import MLE_ROH_Ne, load_roh_vec"
   ]
  },
  {
   "cell_type": "code",
   "execution_count": 23,
   "metadata": {},
   "outputs": [
    {
     "name": "stdout",
     "output_type": "stream",
     "text": [
      "Loaded indivdiual ROH for 86 Indivdiuals\n",
      "CPU times: user 461 ms, sys: 0 ns, total: 461 ms\n",
      "Wall time: 6.53 s\n"
     ]
    }
   ],
   "source": [
    "%%time\n",
    "df = pd.read_csv(\"./output/roh/combined_roh05.csv\", sep='\\t') # The new IBD\n",
    "iids = df[\"iid\"].values\n",
    "\n",
    "### Do possible filtering for IIds here [not implemented]\n",
    "\n",
    "roh_vec = load_roh_vec(iids=iids, base_path = \"./output/roh/\", suffix=\"_roh_full.csv\")\n",
    "print(f\"Loaded indivdiual ROH for {len(roh_vec)} Indivdiuals\")"
   ]
  },
  {
   "cell_type": "code",
   "execution_count": 24,
   "metadata": {},
   "outputs": [
    {
     "name": "stderr",
     "output_type": "stream",
     "text": [
      "/home/harald_ringbauer/.local/lib/python3.8/site-packages/numpy/core/_asarray.py:102: VisibleDeprecationWarning: Creating an ndarray from ragged nested sequences (which is a list-or-tuple of lists-or-tuples-or ndarrays with different lengths or shapes) is deprecated. If you meant to do this, you must specify 'dtype=object' when creating the ndarray.\n",
      "  return array(a, dtype, copy=False, order=order)\n"
     ]
    },
    {
     "name": "stdout",
     "output_type": "stream",
     "text": [
      "CPU times: user 3.58 s, sys: 0 ns, total: 3.58 s\n",
      "Wall time: 3.73 s\n"
     ]
    },
    {
     "data": {
      "text/html": [
       "<div>\n",
       "<style scoped>\n",
       "    .dataframe tbody tr th:only-of-type {\n",
       "        vertical-align: middle;\n",
       "    }\n",
       "\n",
       "    .dataframe tbody tr th {\n",
       "        vertical-align: top;\n",
       "    }\n",
       "\n",
       "    .dataframe thead th {\n",
       "        text-align: right;\n",
       "    }\n",
       "</style>\n",
       "<table border=\"1\" class=\"dataframe\">\n",
       "  <thead>\n",
       "    <tr style=\"text-align: right;\">\n",
       "      <th></th>\n",
       "      <th>coef</th>\n",
       "      <th>std err</th>\n",
       "      <th>0.025</th>\n",
       "      <th>0.975</th>\n",
       "      <th>n</th>\n",
       "    </tr>\n",
       "  </thead>\n",
       "  <tbody>\n",
       "    <tr>\n",
       "      <th>0</th>\n",
       "      <td>1834.571189</td>\n",
       "      <td>NaN</td>\n",
       "      <td>1631.111005</td>\n",
       "      <td>2077.727667</td>\n",
       "      <td>43.0</td>\n",
       "    </tr>\n",
       "  </tbody>\n",
       "</table>\n",
       "</div>"
      ],
      "text/plain": [
       "          coef  std err        0.025        0.975     n\n",
       "0  1834.571189      NaN  1631.111005  2077.727667  43.0"
      ]
     },
     "execution_count": 24,
     "metadata": {},
     "output_type": "execute_result"
    }
   ],
   "source": [
    "%%time\n",
    "output = True\n",
    "min_len = 4 # Min ROH length in cM to fit\n",
    "max_len = 20 # Max ROH length in cM to fit\n",
    "\n",
    "mle = MLE_ROH_Ne(start_params=1000, endog=roh_vec,\n",
    "                 min_len=min_len, max_len=max_len,\n",
    "                 chr_lgts=[],      # lengths of Chromosomes to fit (in cM). If len 0, use default for 1240K\n",
    "                 error_model=False, output=False)\n",
    "fit = mle.fit_ll_profile()\n",
    "#summary = fit.summary()\n",
    "mle.summary/2  # to get estimates in terms of Ne"
   ]
  },
  {
   "cell_type": "markdown",
   "metadata": {},
   "source": [
    "### Alternative Model"
   ]
  },
  {
   "cell_type": "code",
   "execution_count": 36,
   "metadata": {},
   "outputs": [
    {
     "name": "stderr",
     "output_type": "stream",
     "text": [
      "/home/harald_ringbauer/.local/lib/python3.8/site-packages/numpy/core/_asarray.py:102: VisibleDeprecationWarning: Creating an ndarray from ragged nested sequences (which is a list-or-tuple of lists-or-tuples-or ndarrays with different lengths or shapes) is deprecated. If you meant to do this, you must specify 'dtype=object' when creating the ndarray.\n",
      "  return array(a, dtype, copy=False, order=order)\n"
     ]
    },
    {
     "name": "stdout",
     "output_type": "stream",
     "text": [
      "Optimization terminated successfully.\n",
      "         Current function value: 11.898674\n",
      "         Iterations: 29\n",
      "         Function evaluations: 59\n"
     ]
    },
    {
     "name": "stderr",
     "output_type": "stream",
     "text": [
      "/home/harald_ringbauer/.local/lib/python3.8/site-packages/statsmodels/base/model.py:2694: UserWarning: df_model + k_constant differs from nparams\n",
      "  warnings.warn(\"df_model + k_constant differs from nparams\")\n",
      "/home/harald_ringbauer/.local/lib/python3.8/site-packages/statsmodels/base/model.py:2696: UserWarning: df_resid differs from nobs - nparams\n",
      "  warnings.warn(\"df_resid differs from nobs - nparams\")\n"
     ]
    },
    {
     "name": "stdout",
     "output_type": "stream",
     "text": [
      "CPU times: user 409 ms, sys: 54.8 ms, total: 464 ms\n",
      "Wall time: 1.02 s\n"
     ]
    },
    {
     "data": {
      "text/html": [
       "<div>\n",
       "<style scoped>\n",
       "    .dataframe tbody tr th:only-of-type {\n",
       "        vertical-align: middle;\n",
       "    }\n",
       "\n",
       "    .dataframe tbody tr th {\n",
       "        vertical-align: top;\n",
       "    }\n",
       "\n",
       "    .dataframe thead th {\n",
       "        text-align: right;\n",
       "    }\n",
       "</style>\n",
       "<table border=\"1\" class=\"dataframe\">\n",
       "  <thead>\n",
       "    <tr style=\"text-align: right;\">\n",
       "      <th></th>\n",
       "      <th>coef</th>\n",
       "      <th>std err</th>\n",
       "      <th>0.025</th>\n",
       "      <th>0.975</th>\n",
       "    </tr>\n",
       "  </thead>\n",
       "  <tbody>\n",
       "    <tr>\n",
       "      <th>const</th>\n",
       "      <td>1835.26725</td>\n",
       "      <td>117.59</td>\n",
       "      <td>1604.7955</td>\n",
       "      <td>2065.739</td>\n",
       "    </tr>\n",
       "  </tbody>\n",
       "</table>\n",
       "</div>"
      ],
      "text/plain": [
       "             coef  std err      0.025     0.975\n",
       "const  1835.26725   117.59  1604.7955  2065.739"
      ]
     },
     "execution_count": 36,
     "metadata": {},
     "output_type": "execute_result"
    }
   ],
   "source": [
    "%%time\n",
    "output = True\n",
    "min_len = 4 # Min ROH length in cM to fit\n",
    "max_len = 20 # Max ROH length in cM to fit\n",
    "\n",
    "mle = MLE_ROH_Ne(start_params=1000, endog=roh_vec,\n",
    "                 min_len=4, max_len=20,\n",
    "                 chr_lgts=[],      # lengths of Chromosomes to fit (in cM). If len 0, use default for 1240K\n",
    "                 error_model=False, output=False)\n",
    "fit = mle.fit()\n",
    "#summary = fit.summary()\n",
    "mle.summary/2  # to get estimates in terms of Ne"
   ]
  },
  {
   "cell_type": "markdown",
   "metadata": {},
   "source": [
    "### Fit for different length classes"
   ]
  },
  {
   "cell_type": "code",
   "execution_count": 45,
   "metadata": {},
   "outputs": [
    {
     "name": "stdout",
     "output_type": "stream",
     "text": [
      "CPU times: user 15.3 s, sys: 0 ns, total: 15.3 s\n",
      "Wall time: 15.3 s\n"
     ]
    },
    {
     "data": {
      "text/html": [
       "<div>\n",
       "<style scoped>\n",
       "    .dataframe tbody tr th:only-of-type {\n",
       "        vertical-align: middle;\n",
       "    }\n",
       "\n",
       "    .dataframe tbody tr th {\n",
       "        vertical-align: top;\n",
       "    }\n",
       "\n",
       "    .dataframe thead th {\n",
       "        text-align: right;\n",
       "    }\n",
       "</style>\n",
       "<table border=\"1\" class=\"dataframe\">\n",
       "  <thead>\n",
       "    <tr style=\"text-align: right;\">\n",
       "      <th></th>\n",
       "      <th>coef</th>\n",
       "      <th>std err</th>\n",
       "      <th>0.025</th>\n",
       "      <th>0.975</th>\n",
       "      <th>n</th>\n",
       "      <th>roh_l</th>\n",
       "    </tr>\n",
       "  </thead>\n",
       "  <tbody>\n",
       "    <tr>\n",
       "      <th>0</th>\n",
       "      <td>1747.887787</td>\n",
       "      <td>NaN</td>\n",
       "      <td>1532.697648</td>\n",
       "      <td>2007.121245</td>\n",
       "      <td>43.0</td>\n",
       "      <td>4-8</td>\n",
       "    </tr>\n",
       "    <tr>\n",
       "      <th>0</th>\n",
       "      <td>2049.191836</td>\n",
       "      <td>NaN</td>\n",
       "      <td>1480.612719</td>\n",
       "      <td>2956.254207</td>\n",
       "      <td>43.0</td>\n",
       "      <td>8-12</td>\n",
       "    </tr>\n",
       "    <tr>\n",
       "      <th>0</th>\n",
       "      <td>2592.296772</td>\n",
       "      <td>NaN</td>\n",
       "      <td>1575.681742</td>\n",
       "      <td>4698.324157</td>\n",
       "      <td>43.0</td>\n",
       "      <td>12-20</td>\n",
       "    </tr>\n",
       "    <tr>\n",
       "      <th>0</th>\n",
       "      <td>1170.413638</td>\n",
       "      <td>NaN</td>\n",
       "      <td>650.255626</td>\n",
       "      <td>2435.890109</td>\n",
       "      <td>43.0</td>\n",
       "      <td>20-30</td>\n",
       "    </tr>\n",
       "    <tr>\n",
       "      <th>0</th>\n",
       "      <td>1834.571189</td>\n",
       "      <td>NaN</td>\n",
       "      <td>1631.111005</td>\n",
       "      <td>2077.727667</td>\n",
       "      <td>43.0</td>\n",
       "      <td>4-20</td>\n",
       "    </tr>\n",
       "  </tbody>\n",
       "</table>\n",
       "</div>"
      ],
      "text/plain": [
       "          coef  std err        0.025        0.975     n  roh_l\n",
       "0  1747.887787      NaN  1532.697648  2007.121245  43.0    4-8\n",
       "0  2049.191836      NaN  1480.612719  2956.254207  43.0   8-12\n",
       "0  2592.296772      NaN  1575.681742  4698.324157  43.0  12-20\n",
       "0  1170.413638      NaN   650.255626  2435.890109  43.0  20-30\n",
       "0  1834.571189      NaN  1631.111005  2077.727667  43.0   4-20"
      ]
     },
     "execution_count": 45,
     "metadata": {},
     "output_type": "execute_result"
    }
   ],
   "source": [
    "%%time\n",
    "\n",
    "boarders = [[4,8],[8,12],[12,20],[20,30],[4,20]]\n",
    "\n",
    "dfts = []\n",
    "\n",
    "for i,b in enumerate(boarders):     \n",
    "    mle = MLE_ROH_Ne(start_params=1000, endog=roh_vec,\n",
    "                     min_len=b[0], max_len=b[1],\n",
    "                     chr_lgts=[],      # lengths of Chromosomes to fit (in cM). If len 0, use default for 1240K\n",
    "                     error_model=False, output=False)\n",
    "    \n",
    "    fit = mle.fit_ll_profile()\n",
    "    #summary = fit.summary()\n",
    "    dft = mle.summary/2  # to get estimates in terms of Ne\n",
    "    dft[\"roh_l\"] = \"-\".join(np.array(b).astype(\"str\"))\n",
    "    dfts.append(dft)\n",
    "\n",
    "df_res = pd.concat(dfts)\n",
    "df_res"
   ]
  },
  {
   "cell_type": "code",
   "execution_count": 46,
   "metadata": {},
   "outputs": [
    {
     "data": {
      "text/html": [
       "<div>\n",
       "<style scoped>\n",
       "    .dataframe tbody tr th:only-of-type {\n",
       "        vertical-align: middle;\n",
       "    }\n",
       "\n",
       "    .dataframe tbody tr th {\n",
       "        vertical-align: top;\n",
       "    }\n",
       "\n",
       "    .dataframe thead th {\n",
       "        text-align: right;\n",
       "    }\n",
       "</style>\n",
       "<table border=\"1\" class=\"dataframe\">\n",
       "  <thead>\n",
       "    <tr style=\"text-align: right;\">\n",
       "      <th></th>\n",
       "      <th>coef</th>\n",
       "      <th>std err</th>\n",
       "      <th>0.025</th>\n",
       "      <th>0.975</th>\n",
       "      <th>n</th>\n",
       "      <th>roh_l</th>\n",
       "    </tr>\n",
       "  </thead>\n",
       "  <tbody>\n",
       "    <tr>\n",
       "      <th>0</th>\n",
       "      <td>1747.887787</td>\n",
       "      <td>NaN</td>\n",
       "      <td>1532.697648</td>\n",
       "      <td>2007.121245</td>\n",
       "      <td>43.0</td>\n",
       "      <td>4-8</td>\n",
       "    </tr>\n",
       "    <tr>\n",
       "      <th>0</th>\n",
       "      <td>2049.191836</td>\n",
       "      <td>NaN</td>\n",
       "      <td>1480.612719</td>\n",
       "      <td>2956.254207</td>\n",
       "      <td>43.0</td>\n",
       "      <td>8-12</td>\n",
       "    </tr>\n",
       "    <tr>\n",
       "      <th>0</th>\n",
       "      <td>2592.296772</td>\n",
       "      <td>NaN</td>\n",
       "      <td>1575.681742</td>\n",
       "      <td>4698.324157</td>\n",
       "      <td>43.0</td>\n",
       "      <td>12-20</td>\n",
       "    </tr>\n",
       "    <tr>\n",
       "      <th>0</th>\n",
       "      <td>1170.413638</td>\n",
       "      <td>NaN</td>\n",
       "      <td>650.255626</td>\n",
       "      <td>2435.890109</td>\n",
       "      <td>43.0</td>\n",
       "      <td>20-30</td>\n",
       "    </tr>\n",
       "    <tr>\n",
       "      <th>0</th>\n",
       "      <td>1834.571189</td>\n",
       "      <td>NaN</td>\n",
       "      <td>1631.111005</td>\n",
       "      <td>2077.727667</td>\n",
       "      <td>43.0</td>\n",
       "      <td>4-20</td>\n",
       "    </tr>\n",
       "  </tbody>\n",
       "</table>\n",
       "</div>"
      ],
      "text/plain": [
       "          coef  std err        0.025        0.975     n  roh_l\n",
       "0  1747.887787      NaN  1532.697648  2007.121245  43.0    4-8\n",
       "0  2049.191836      NaN  1480.612719  2956.254207  43.0   8-12\n",
       "0  2592.296772      NaN  1575.681742  4698.324157  43.0  12-20\n",
       "0  1170.413638      NaN   650.255626  2435.890109  43.0  20-30\n",
       "0  1834.571189      NaN  1631.111005  2077.727667  43.0   4-20"
      ]
     },
     "execution_count": 46,
     "metadata": {},
     "output_type": "execute_result"
    }
   ],
   "source": [
    "df_res"
   ]
  },
  {
   "cell_type": "markdown",
   "metadata": {},
   "source": [
    "# Area 51"
   ]
  },
  {
   "cell_type": "code",
   "execution_count": 32,
   "metadata": {},
   "outputs": [
    {
     "data": {
      "text/html": [
       "<div>\n",
       "<style scoped>\n",
       "    .dataframe tbody tr th:only-of-type {\n",
       "        vertical-align: middle;\n",
       "    }\n",
       "\n",
       "    .dataframe tbody tr th {\n",
       "        vertical-align: top;\n",
       "    }\n",
       "\n",
       "    .dataframe thead th {\n",
       "        text-align: right;\n",
       "    }\n",
       "</style>\n",
       "<table border=\"1\" class=\"dataframe\">\n",
       "  <thead>\n",
       "    <tr style=\"text-align: right;\">\n",
       "      <th></th>\n",
       "      <th>max_roh</th>\n",
       "      <th>iid</th>\n",
       "      <th>pop</th>\n",
       "      <th>sum_roh&gt;4</th>\n",
       "      <th>n_roh&gt;4</th>\n",
       "      <th>sum_roh&gt;8</th>\n",
       "      <th>n_roh&gt;8</th>\n",
       "      <th>sum_roh&gt;12</th>\n",
       "      <th>n_roh&gt;12</th>\n",
       "      <th>sum_roh&gt;20</th>\n",
       "      <th>n_roh&gt;20</th>\n",
       "      <th>sex</th>\n",
       "      <th>clst</th>\n",
       "      <th>n_cov_snps</th>\n",
       "    </tr>\n",
       "  </thead>\n",
       "  <tbody>\n",
       "    <tr>\n",
       "      <th>0</th>\n",
       "      <td>21.540296</td>\n",
       "      <td>GRG095.A0101</td>\n",
       "      <td>France_MN_GRG_all_20210215</td>\n",
       "      <td>115.212005</td>\n",
       "      <td>10</td>\n",
       "      <td>89.815491</td>\n",
       "      <td>5</td>\n",
       "      <td>89.815491</td>\n",
       "      <td>5</td>\n",
       "      <td>42.202998</td>\n",
       "      <td>2</td>\n",
       "      <td>M</td>\n",
       "      <td>France_MN_GRG_all_20210215</td>\n",
       "      <td>704907</td>\n",
       "    </tr>\n",
       "    <tr>\n",
       "      <th>1</th>\n",
       "      <td>25.133502</td>\n",
       "      <td>GRG027.A0102</td>\n",
       "      <td>France_MN_GRG_all_20210215</td>\n",
       "      <td>66.184599</td>\n",
       "      <td>6</td>\n",
       "      <td>44.072401</td>\n",
       "      <td>2</td>\n",
       "      <td>44.072401</td>\n",
       "      <td>2</td>\n",
       "      <td>25.133502</td>\n",
       "      <td>1</td>\n",
       "      <td>M</td>\n",
       "      <td>France_MN_GRG_all_20210215</td>\n",
       "      <td>773741</td>\n",
       "    </tr>\n",
       "    <tr>\n",
       "      <th>2</th>\n",
       "      <td>25.536799</td>\n",
       "      <td>GRG002.A0101</td>\n",
       "      <td>France_MN_GRG_all_20210215</td>\n",
       "      <td>56.064188</td>\n",
       "      <td>6</td>\n",
       "      <td>34.605502</td>\n",
       "      <td>2</td>\n",
       "      <td>25.536799</td>\n",
       "      <td>1</td>\n",
       "      <td>25.536799</td>\n",
       "      <td>1</td>\n",
       "      <td>M</td>\n",
       "      <td>France_MN_GRG_all_20210215</td>\n",
       "      <td>744597</td>\n",
       "    </tr>\n",
       "    <tr>\n",
       "      <th>5</th>\n",
       "      <td>21.709800</td>\n",
       "      <td>GRG021.A0102</td>\n",
       "      <td>France_MN_GRG_all_20210215</td>\n",
       "      <td>48.615407</td>\n",
       "      <td>4</td>\n",
       "      <td>42.663204</td>\n",
       "      <td>3</td>\n",
       "      <td>21.709800</td>\n",
       "      <td>1</td>\n",
       "      <td>21.709800</td>\n",
       "      <td>1</td>\n",
       "      <td>M</td>\n",
       "      <td>France_MN_GRG_all_20210215</td>\n",
       "      <td>721756</td>\n",
       "    </tr>\n",
       "    <tr>\n",
       "      <th>6</th>\n",
       "      <td>21.501600</td>\n",
       "      <td>GRG039.A0101</td>\n",
       "      <td>France_MN_GRG_all_20210215</td>\n",
       "      <td>40.508492</td>\n",
       "      <td>4</td>\n",
       "      <td>31.623292</td>\n",
       "      <td>2</td>\n",
       "      <td>21.501600</td>\n",
       "      <td>1</td>\n",
       "      <td>21.501600</td>\n",
       "      <td>1</td>\n",
       "      <td>F</td>\n",
       "      <td>France_MN_GRG_all_20210215</td>\n",
       "      <td>641602</td>\n",
       "    </tr>\n",
       "    <tr>\n",
       "      <th>7</th>\n",
       "      <td>24.187696</td>\n",
       "      <td>GRG070.A0101</td>\n",
       "      <td>France_MN_GRG_all_20210215</td>\n",
       "      <td>38.722896</td>\n",
       "      <td>3</td>\n",
       "      <td>24.187696</td>\n",
       "      <td>1</td>\n",
       "      <td>24.187696</td>\n",
       "      <td>1</td>\n",
       "      <td>24.187696</td>\n",
       "      <td>1</td>\n",
       "      <td>F</td>\n",
       "      <td>France_MN_GRG_all_20210215</td>\n",
       "      <td>606055</td>\n",
       "    </tr>\n",
       "    <tr>\n",
       "      <th>10</th>\n",
       "      <td>23.203397</td>\n",
       "      <td>GRG075.A0101</td>\n",
       "      <td>France_MN_GRG_all_20210215</td>\n",
       "      <td>36.484695</td>\n",
       "      <td>3</td>\n",
       "      <td>23.203397</td>\n",
       "      <td>1</td>\n",
       "      <td>23.203397</td>\n",
       "      <td>1</td>\n",
       "      <td>23.203397</td>\n",
       "      <td>1</td>\n",
       "      <td>F</td>\n",
       "      <td>France_MN_GRG_all_20210215</td>\n",
       "      <td>712825</td>\n",
       "    </tr>\n",
       "    <tr>\n",
       "      <th>16</th>\n",
       "      <td>20.806694</td>\n",
       "      <td>GRG006.B0101</td>\n",
       "      <td>France_MN_GRG_all_20210215</td>\n",
       "      <td>33.096596</td>\n",
       "      <td>3</td>\n",
       "      <td>20.806694</td>\n",
       "      <td>1</td>\n",
       "      <td>20.806694</td>\n",
       "      <td>1</td>\n",
       "      <td>20.806694</td>\n",
       "      <td>1</td>\n",
       "      <td>F</td>\n",
       "      <td>France_MN_GRG_all_20210215</td>\n",
       "      <td>623347</td>\n",
       "    </tr>\n",
       "  </tbody>\n",
       "</table>\n",
       "</div>"
      ],
      "text/plain": [
       "      max_roh           iid                         pop   sum_roh>4  n_roh>4  \\\n",
       "0   21.540296  GRG095.A0101  France_MN_GRG_all_20210215  115.212005       10   \n",
       "1   25.133502  GRG027.A0102  France_MN_GRG_all_20210215   66.184599        6   \n",
       "2   25.536799  GRG002.A0101  France_MN_GRG_all_20210215   56.064188        6   \n",
       "5   21.709800  GRG021.A0102  France_MN_GRG_all_20210215   48.615407        4   \n",
       "6   21.501600  GRG039.A0101  France_MN_GRG_all_20210215   40.508492        4   \n",
       "7   24.187696  GRG070.A0101  France_MN_GRG_all_20210215   38.722896        3   \n",
       "10  23.203397  GRG075.A0101  France_MN_GRG_all_20210215   36.484695        3   \n",
       "16  20.806694  GRG006.B0101  France_MN_GRG_all_20210215   33.096596        3   \n",
       "\n",
       "    sum_roh>8  n_roh>8  sum_roh>12  n_roh>12  sum_roh>20  n_roh>20 sex  \\\n",
       "0   89.815491        5   89.815491         5   42.202998         2   M   \n",
       "1   44.072401        2   44.072401         2   25.133502         1   M   \n",
       "2   34.605502        2   25.536799         1   25.536799         1   M   \n",
       "5   42.663204        3   21.709800         1   21.709800         1   M   \n",
       "6   31.623292        2   21.501600         1   21.501600         1   F   \n",
       "7   24.187696        1   24.187696         1   24.187696         1   F   \n",
       "10  23.203397        1   23.203397         1   23.203397         1   F   \n",
       "16  20.806694        1   20.806694         1   20.806694         1   F   \n",
       "\n",
       "                          clst  n_cov_snps  \n",
       "0   France_MN_GRG_all_20210215      704907  \n",
       "1   France_MN_GRG_all_20210215      773741  \n",
       "2   France_MN_GRG_all_20210215      744597  \n",
       "5   France_MN_GRG_all_20210215      721756  \n",
       "6   France_MN_GRG_all_20210215      641602  \n",
       "7   France_MN_GRG_all_20210215      606055  \n",
       "10  France_MN_GRG_all_20210215      712825  \n",
       "16  France_MN_GRG_all_20210215      623347  "
      ]
     },
     "execution_count": 32,
     "metadata": {},
     "output_type": "execute_result"
    }
   ],
   "source": [
    "### Check all indivdiuals with long ROH\n",
    "df[df[\"sum_roh>20\"]>20]"
   ]
  },
  {
   "cell_type": "code",
   "execution_count": null,
   "metadata": {},
   "outputs": [],
   "source": []
  }
 ],
 "metadata": {
  "kernelspec": {
   "display_name": "Python 3",
   "language": "python",
   "name": "python3"
  },
  "language_info": {
   "codemirror_mode": {
    "name": "ipython",
    "version": 3
   },
   "file_extension": ".py",
   "mimetype": "text/x-python",
   "name": "python",
   "nbconvert_exporter": "python",
   "pygments_lexer": "ipython3",
   "version": "3.8.10"
  }
 },
 "nbformat": 4,
 "nbformat_minor": 4
}
