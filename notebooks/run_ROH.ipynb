{
 "cells": [
  {
   "cell_type": "markdown",
   "metadata": {},
   "source": [
    "# Run ROH Detection"
   ]
  },
  {
   "cell_type": "code",
   "execution_count": 104,
   "metadata": {},
   "outputs": [
    {
     "name": "stdout",
     "output_type": "stream",
     "text": [
      "bionc21\n",
      "Leipzig Cluster detected!\n",
      "/mnt/archgen/users/hringbauer/git/ibd_gurgy\n"
     ]
    }
   ],
   "source": [
    "import socket as socket\n",
    "import os as os\n",
    "import sys as sys\n",
    "import numpy as np\n",
    "import pandas as pd\n",
    "import matplotlib.pyplot as plt\n",
    "socket_name = socket.gethostname()\n",
    "print(socket_name)\n",
    "\n",
    "if socket_name.startswith(\"bionc\"):\n",
    "    print(\"Leipzig Cluster detected!\")\n",
    "    path = \"/mnt/archgen/users/hringbauer/git/ibd_gurgy/\"\n",
    "    #sys.path.append(\"/mnt/archgen/users/hringbauer/git/ibd_gurgy/\") \n",
    "    \n",
    "else: \n",
    "    raise RuntimeWarning(\"Not compatible machine. Check!!\")\n",
    "\n",
    "os.chdir(path)  # Set the right Path (in line with Atom default)\n",
    "print(os.getcwd())"
   ]
  },
  {
   "cell_type": "code",
   "execution_count": 39,
   "metadata": {},
   "outputs": [],
   "source": [
    "df = pd.read_csv(\"./data/roh/combined_ROH_v1.tsv\", sep='\\t')\n",
    "\n",
    "# Rename IIDs to remove ugly library name\n",
    "#iids = df[\"iid\"].str.split(\".\").values\n",
    "#iids = [i[0] for i in iids]\n",
    "#df[\"iid\"] = iids"
   ]
  },
  {
   "cell_type": "code",
   "execution_count": 121,
   "metadata": {},
   "outputs": [
    {
     "name": "stdout",
     "output_type": "stream",
     "text": [
      "Loaded 86 IIDs with sufficiently many SNPs\n"
     ]
    }
   ],
   "source": [
    "df2 = pd.read_csv(\"/mnt/archgen/users/rivollat/Interact/Neo/GRG/20210215_Datafreeze_1240K/genotypes/TF/France_MN_GRG_all_20210215.TF.allChrom.ind\", sep=\"\\t\", header=None)\n",
    "df2.columns = [\"iid\", \"sex\", \"clst\"]\n",
    "\n",
    "df21 = pd.read_csv(\"/mnt/archgen/users/rivollat/Interact/Neo/GRG/20210215_Datafreeze_1240K/genotypes/TF/France_MN_GRG_all_20210215.TF.allChrom.cov.txt\", \n",
    "                  sep=\"\\t\")\n",
    "\n",
    "#idx = df21[\"called SNPs\"] > 3e5\n",
    "#np.sum(idx)\n",
    "df2[\"n_cov_snps\"] = df21[\"called SNPs\"]\n",
    "dft = df2[df2[\"n_cov_snps\"]>3e5]\n",
    "print(f\"Loaded {len(dft)} IIDs with sufficiently many SNPs\")\n",
    "iids = dft[\"iid\"].values\n",
    "dft.to_csv(\"/mnt/archgen/users/hringbauer/git/ibd_gurgy/data/meta/roh_meta.v1.csv\", sep=\",\", index=False)"
   ]
  },
  {
   "cell_type": "markdown",
   "metadata": {},
   "source": [
    "# Run hapROH"
   ]
  },
  {
   "cell_type": "code",
   "execution_count": 61,
   "metadata": {},
   "outputs": [],
   "source": [
    "from hapsburg.PackagesSupport.hapsburg_run import hapsb_ind "
   ]
  },
  {
   "cell_type": "code",
   "execution_count": null,
   "metadata": {},
   "outputs": [],
   "source": [
    "%%time\n",
    "path_targets = \"/mnt/archgen/users/rivollat/Interact/Neo/GRG/20210215_Datafreeze_1240K/genotypes/TF/France_MN_GRG_all_20210215.TF.allChrom\"\n",
    "\n",
    "hapsb_ind(iid=iids[0], chs=range(1, 2), \n",
    "          path_targets=path_targets, # The path before the .ind, .snp, .geno\n",
    "          h5_path1000g='/mnt/archgen/users/hringbauer/data/hapROH.globalRef/chr', \n",
    "          meta_path_ref='/mnt/archgen/users/hringbauer/data/hapROH.globalRef/meta_df_all.csv', \n",
    "          folder_out=\"/mnt/archgen/users/hringbauer/git/ibd_gurgy/output/roh/\",  # Folder where you want to save the results to \n",
    "          processes=1, output=True, roh_min_l_final=0.04,\n",
    "          readcounts=False, logfile=False, combine=True)"
   ]
  },
  {
   "cell_type": "markdown",
   "metadata": {},
   "source": [
    "# Run Jobs on cluster"
   ]
  },
  {
   "cell_type": "code",
   "execution_count": 105,
   "metadata": {},
   "outputs": [
    {
     "name": "stdout",
     "output_type": "stream",
     "text": [
      "Your job-array 3032847.1-86:1 (\"call_ROH_Gurgy\") has been submitted\n"
     ]
    }
   ],
   "source": [
    "!cd /mnt/archgen/users/hringbauer/git/ibd_gurgy/cluster/roh/; qsub ./call_roh.qsub  ### Submit Job"
   ]
  },
  {
   "cell_type": "code",
   "execution_count": 112,
   "metadata": {},
   "outputs": [],
   "source": [
    "!qstat -u harald_ringbauer ### Check what jobs are running"
   ]
  },
  {
   "cell_type": "markdown",
   "metadata": {},
   "source": [
    "# Process ROH"
   ]
  },
  {
   "cell_type": "code",
   "execution_count": 113,
   "metadata": {},
   "outputs": [],
   "source": [
    "from hapsburg.PackagesSupport.pp_individual_roh_csvs import pp_individual_roh"
   ]
  },
  {
   "cell_type": "code",
   "execution_count": 122,
   "metadata": {},
   "outputs": [
    {
     "name": "stdout",
     "output_type": "stream",
     "text": [
      "Loaded 86 / 86 Individuals from Meta\n",
      "Saved to: /mnt/archgen/users/hringbauer/git/ibd_gurgy/output/roh/combined_roh05.csv\n",
      "CPU times: user 1.96 s, sys: 16.9 ms, total: 1.97 s\n",
      "Wall time: 2.23 s\n"
     ]
    }
   ],
   "source": [
    "%%time\n",
    "### Postprocess the two Individuals from above and combine into one results .csv\n",
    "\n",
    "df1 = pp_individual_roh(iids, meta_path=\"/mnt/archgen/users/hringbauer/git/ibd_gurgy/data/meta/roh_meta.v1.csv\", \n",
    "                        base_folder=\"/mnt/archgen/users/hringbauer/git/ibd_gurgy/output/roh/\",\n",
    "                        save_path=\"/mnt/archgen/users/hringbauer/git/ibd_gurgy/output/roh/combined_roh05.csv\", \n",
    "                        output=False, min_cm=[4, 8, 12, 20], snp_cm=50, \n",
    "                        gap=0.5, min_len1=2.0, min_len2=4.0)"
   ]
  },
  {
   "cell_type": "code",
   "execution_count": null,
   "metadata": {},
   "outputs": [],
   "source": []
  }
 ],
 "metadata": {
  "kernelspec": {
   "display_name": "Python 3",
   "language": "python",
   "name": "python3"
  },
  "language_info": {
   "codemirror_mode": {
    "name": "ipython",
    "version": 3
   },
   "file_extension": ".py",
   "mimetype": "text/x-python",
   "name": "python",
   "nbconvert_exporter": "python",
   "pygments_lexer": "ipython3",
   "version": "3.8.10"
  }
 },
 "nbformat": 4,
 "nbformat_minor": 4
}
